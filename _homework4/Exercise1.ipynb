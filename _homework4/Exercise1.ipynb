{
 "cells": [
  {
   "cell_type": "code",
   "execution_count": null,
   "metadata": {},
   "outputs": [],
   "source": [
    "import numpy as np\n",
    "import matplotlib.pyplot as plt\n",
    "from numpy.random import random, seed\n",
    "seed(1234)"
   ]
  },
  {
   "cell_type": "code",
   "execution_count": 2,
   "metadata": {},
   "outputs": [],
   "source": [
    "def directSampling(L, sigma) :\n",
    "    \"\"\"Sampling of 2 1D-balls of size 2*sigma, on a 1D-line of length L.\"\"\"\n",
    "    n = 2\n",
    "    pos = np.zeros(n)\n",
    "    acc = False\n",
    "    while acc == False : # while overlap, try again\n",
    "        # Choose the position of a ball between [sigma, L-sigma]\n",
    "        pos[0] = sigma + random()*(L-2*sigma)\n",
    "        pos[1] = sigma + random()*(L-2*sigma)\n",
    "        if abs(pos[1] - pos[0]) >= 2*sigma : # if no overlap, keep and stop\n",
    "            acc = True\n",
    "    return pos"
   ]
  },
  {
   "cell_type": "code",
   "execution_count": 3,
   "metadata": {},
   "outputs": [
    {
     "data": {
      "image/png": "[encoded data removed]",
      "text/plain": [
       "<matplotlib.figure.Figure at 0x7f38fa749a20>"
      ]
     },
     "metadata": {},
     "output_type": "display_data"
    }
   ],
   "source": [
    "L, sigma = 8, 0.75\n",
    "H = np.array([directSampling(L, sigma) for i in range(10**5)])\n",
    "plt.hist(H[:, 0], bins = 50, normed = 1, color = 'red', label = 'First ball position', alpha = 0.2)\n",
    "plt.hist(H[:, 1], bins = 50, normed = 1, color = 'orange', label = 'Second ball position', alpha = 0.2)\n",
    "plt.legend()\n",
    "plt.show()"
   ]
  },
  {
   "cell_type": "code",
   "execution_count": 4,
   "metadata": {},
   "outputs": [],
   "source": [
    "def wrongSampling(L, sigma) :\n",
    "    \"\"\"Wrong sampling of 2 1D-balls of size 2*sigma, on a 1D-line of length L.\"\"\"\n",
    "    n = 2\n",
    "    pos = np.zeros(n)\n",
    "    pos[0] = sigma + random()*(L-2*sigma)\n",
    "    acc = False\n",
    "    while acc == False : # while overlap, try again\n",
    "        # Choose the position of a ball between [sigma, L-sigma]\n",
    "        pos[1] = sigma + random()*(L-2*sigma)\n",
    "        if abs(pos[1] - pos[0]) >= 2*sigma : # if no overlap, keep and stop\n",
    "            acc = True\n",
    "    return pos"
   ]
  },
  {
   "cell_type": "code",
   "execution_count": 6,
   "metadata": {},
   "outputs": [
    {
     "data": {
      "image/png": "[encoded data removed]",
      "text/plain": [
       "<matplotlib.figure.Figure at 0x7f38fa6d3c50>"
      ]
     },
     "metadata": {},
     "output_type": "display_data"
    }
   ],
   "source": [
    "L, sigma = 8, 0.75\n",
    "W = np.array([wrongSampling(L, sigma) for i in range(10**5)])\n",
    "plt.hist(H[:, 1], bins = 50, normed = 1, color = 'red', label = 'Second ball position', alpha = 0.2)\n",
    "plt.hist(W[:, 1], bins = 50, normed = 1, color = 'orange', label = 'Wrong Second ball position', alpha = 0.2)\n",
    "plt.legend()\n",
    "plt.show()"
   ]
  },
  {
   "cell_type": "code",
   "execution_count": null,
   "metadata": {},
   "outputs": [],
   "source": [
    "def naiveSampling(n, L, sigma) :\n",
    "    reject = 0\n",
    "    acc = False\n",
    "    while acc != True :\n",
    "        pos = random(size = n)*(L-sigma) + sigma\n",
    "        x, y = np.ones((n, n))*pos, np.transpose(np.ones((n, n))*pos)\n",
    "        z =  np.abs(x - y) >= 2*sigma\n",
    "        z = np.fill_diagonal(z, True)\n",
    "        print z\n",
    "        if np.sum(z) == n*n :\n",
    "            acc = True\n",
    "        else :\n",
    "            reject += 1\n",
    "            if reject == 10 :\n",
    "                break;\n",
    "    return pos, z"
   ]
  },
  {
   "cell_type": "code",
   "execution_count": null,
   "metadata": {},
   "outputs": [],
   "source": [
    "a = naiveSampling(2, 10, 0.1)\n",
    "a"
   ]
  },
  {
   "cell_type": "code",
   "execution_count": null,
   "metadata": {},
   "outputs": [],
   "source": []
  }
 ],
 "metadata": {
  "kernelspec": {
   "display_name": "Python 3",
   "language": "python",
   "name": "python3"
  },
  "language_info": {
   "codemirror_mode": {
    "name": "ipython",
    "version": 3
   },
   "file_extension": ".py",
   "mimetype": "text/x-python",
   "name": "python",
   "nbconvert_exporter": "python",
   "pygments_lexer": "ipython3",
   "version": "3.6.2"
  }
 },
 "nbformat": 4,
 "nbformat_minor": 2
}
