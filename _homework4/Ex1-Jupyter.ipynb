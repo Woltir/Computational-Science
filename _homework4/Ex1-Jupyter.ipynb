{
 "cells": [
  {
   "cell_type": "markdown",
   "metadata": {},
   "source": [
    "# One Dimensional hard spheres"
   ]
  },
  {
   "cell_type": "code",
   "execution_count": 1,
   "metadata": {},
   "outputs": [],
   "source": [
    "import numpy as np\n",
    "import matplotlib.pyplot as plt\n",
    "from numpy.random import random, seed\n",
    "#import seaborn as sns\n",
    "seed(1234)"
   ]
  },
  {
   "cell_type": "markdown",
   "metadata": {},
   "source": [
    "## 1. Direct Sampling"
   ]
  },
  {
   "cell_type": "code",
   "execution_count": 2,
   "metadata": {},
   "outputs": [],
   "source": [
    "def directSampling(L, sigma) :\n",
    "    \"\"\"Sampling of 2 1D-balls of size 2*sigma, on a 1D-line of length L.\"\"\"\n",
    "    n = 2\n",
    "    pos = np.zeros(n)\n",
    "    acc = False\n",
    "    while acc == False : # while overlap, try again\n",
    "        # Choose the position of a ball between [sigma, L-sigma]\n",
    "        pos[0] = sigma + random()*(L-2*sigma)\n",
    "        pos[1] = sigma + random()*(L-2*sigma)\n",
    "        if abs(pos[1] - pos[0]) >= 2*sigma : # if no overlap, keep and stop\n",
    "            acc = True\n",
    "    return pos"
   ]
  },
  {
   "cell_type": "code",
   "execution_count": 3,
   "metadata": {},
   "outputs": [],
   "source": [
    "L, sigma=8, 0.75\n",
    "H = np.array([directSampling(L, sigma) for i in range(10)])"
   ]
  },
  {
   "cell_type": "code",
   "execution_count": 4,
   "metadata": {},
   "outputs": [],
   "source": [
    "def plot1(H) :\n",
    "    plt.figure()\n",
    "    plt.subplot(121)\n",
    "    plt.hist(H[:, 0], bins = 100, normed = 1, color = 'blue', alpha = 0.3)\n",
    "    plt.title('Position of ball 1')\n",
    "    plt.subplot(122)\n",
    "    plt.hist(H[:, 1], bins = 100, normed = 1, color = 'red', alpha = 0.3)\n",
    "    plt.title('Position of ball 2')\n",
    "    plt.show()"
   ]
  },
  {
   "cell_type": "code",
   "execution_count": 5,
   "metadata": {},
   "outputs": [],
   "source": [
    "L, sigma = 8, 0.75\n",
    "H = np.array([directSampling(L, sigma) for i in range(10**6)])"
   ]
  },
  {
   "cell_type": "code",
   "execution_count": 6,
   "metadata": {},
   "outputs": [
    {
     "data": {
      "image/png": "[encoded data removed]",
      "text/plain": [
       "<matplotlib.figure.Figure at 0x7fd16d522a10>"
      ]
     },
     "metadata": {},
     "output_type": "display_data"
    }
   ],
   "source": [
    "plot1(H)"
   ]
  },
  {
   "cell_type": "markdown",
   "metadata": {},
   "source": [
    "This histogram shows the distribution of the two balls, and more especially the depletion effect on the border sides, while on the center of the histograms, we can see a plateau"
   ]
  },
  {
   "cell_type": "markdown",
   "metadata": {},
   "source": [
    "## 2. A Wrong Sampling"
   ]
  },
  {
   "cell_type": "code",
   "execution_count": 7,
   "metadata": {},
   "outputs": [],
   "source": [
    "def wrongSampling(L, sigma) :\n",
    "    \"\"\"Wrong sampling of 2 1D-balls of size 2*sigma, on a 1D-line of length L.\"\"\"\n",
    "    n = 2\n",
    "    pos = np.zeros(n)\n",
    "    pos[0] = sigma + random()*(L-2*sigma)\n",
    "    acc = False\n",
    "    while acc == False : # while overlap, try again\n",
    "        # Choose the position of a ball between [sigma, L-sigma]\n",
    "        pos[1] = sigma + random()*(L-2*sigma)\n",
    "        if abs(pos[1] - pos[0]) >= 2*sigma : # if no overlap, keep and stop\n",
    "            acc = True\n",
    "    return pos"
   ]
  },
  {
   "cell_type": "code",
   "execution_count": 8,
   "metadata": {},
   "outputs": [],
   "source": [
    "def plot2(H, W) :\n",
    "    fig, ax = plt.subplots(2)\n",
    "    ax[0].hist(H[:, 1], bins = 100, normed = 1, color = 'red', alpha = 0.6)\n",
    "    ax[0].set_title('Position of ball 2')\n",
    "    ax[1].hist(W[:, 1], bins = 100, normed = 1, color = 'orange', alpha = 0.6)\n",
    "    ax[1].set_title('Wrong position of ball 2')\n",
    "    plt.show()"
   ]
  },
  {
   "cell_type": "code",
   "execution_count": 9,
   "metadata": {},
   "outputs": [],
   "source": [
    "L, sigma = 8, 0.75\n",
    "W = np.array([wrongSampling(L, sigma) for i in range(10**6)])"
   ]
  },
  {
   "cell_type": "code",
   "execution_count": 10,
   "metadata": {},
   "outputs": [
    {
     "data": {
      "image/png": "[encoded data removed]",
      "text/plain": [
       "<matplotlib.figure.Figure at 0x7fd16d0badd0>"
      ]
     },
     "metadata": {},
     "output_type": "display_data"
    }
   ],
   "source": [
    "plot2(H, W)"
   ]
  },
  {
   "cell_type": "markdown",
   "metadata": {},
   "source": [
    "## 3. A Naive Sampling"
   ]
  },
  {
   "cell_type": "code",
   "execution_count": 11,
   "metadata": {},
   "outputs": [],
   "source": [
    "def naiveSampling(n, L, sigma) :\n",
    "    reject = 0\n",
    "    acc = False\n",
    "    while acc != True :\n",
    "        pos = random(size = n)*(L-2*sigma) + sigma\n",
    "        x, y = np.ones((n, n))*pos, np.transpose(np.ones((n, n))*pos)\n",
    "        z =  np.abs(x - y) >= 2*sigma\n",
    "        np.fill_diagonal(z, True)\n",
    "        if np.sum(z) == n*n :\n",
    "            acc = True\n",
    "        else :\n",
    "            reject += 1\n",
    "    return pos, reject"
   ]
  },
  {
   "cell_type": "markdown",
   "metadata": {},
   "source": [
    "Here, we implemented a modified version of the given naive algorithm. Instead of comparing every step, and stop if two spheres overlap, which is very long with for loops in Python, we generate an array of positions of the spheres :\n",
    "$$p = [x_{1}, ..., x_{n}]$$\n",
    "then a matrix such that\n",
    "$$\\begin{array}{cccc}\n",
    "|x_{1} - x_{1}| & |x_{1} - x_{2}| & ... & |x_{1} - x_{n}| \\\\\n",
    "|x_{2} - x_{1}| & |x_{2} - x_{2}| & ... & |x_{2} - x_{n}| \\\\\n",
    "\\vdot & & \\ddot & \\vdot \\\\\n",
    "|x_{n} - x_{1}| & |x_{n} - x_{2}| & ... & |x_{n} - x_{n}|\n",
    "\\end{array}$$\n",
    "\n",
    "This matrix gives us the absolute distance between the position $x_{i}$ and $x_{j}$ for each $(i, j)$. Thus, the matrix is a symmetric matrix with zero-coefficients in the diagonal.\n",
    "We then compare each of the coefficients to $2\\sigma$ and return a boolean matrix (True if the coefficient is greater than $2\\sigma$, i.e. : no overlap ; False else).\n",
    "Finally, adding True values for the diagonal, we accept the initial distribution if and only if all the coefficients are True values, here if the sum of all booleans give $n^{2}$, the size of the matrix.\n",
    "If two balls overlap, then the total sum is smaller than $n^{2}$ ad we reject the initial distribution."
   ]
  },
  {
   "cell_type": "code",
   "execution_count": 12,
   "metadata": {},
   "outputs": [
    {
     "data": {
      "image/png": "[encoded data removed]",
      "text/plain": [
       "<matplotlib.figure.Figure at 0x7fd16cef9850>"
      ]
     },
     "metadata": {},
     "output_type": "display_data"
    }
   ],
   "source": [
    "seed(1)\n",
    "L, sigma = 10, 0.1\n",
    "N = 22\n",
    "dat = np.zeros(N-2)\n",
    "for i in range(2, N):\n",
    "    a, dat[i-2] = naiveSampling(i, L, sigma)\n",
    "\n",
    "plt.semilogy(range(2, N), dat)\n",
    "plt.xlabel('Number of balls')\n",
    "plt.ylabel('Number of rejects')\n",
    "plt.title('Number of rejects vs number of balls of size ' + str(sigma) + \n",
    "          ' in a box of length L = ' + str(L))\n",
    "plt.show()"
   ]
  },
  {
   "cell_type": "markdown",
   "metadata": {},
   "source": [
    "In the last graph, we can sometimes observe a decrease of the number of rejects, which are \"lucky\" configurations that converged fastly. However, the number of rejects exponentially increases."
   ]
  },
  {
   "cell_type": "markdown",
   "metadata": {},
   "source": [
    "## 4. A Clever Sampling"
   ]
  },
  {
   "cell_type": "code",
   "execution_count": 13,
   "metadata": {},
   "outputs": [],
   "source": [
    "def cleverSampling(n, L, sigma):\n",
    "    pos = random(size = n)*(L-2*n*sigma)\n",
    "    pos = np.sort(pos)\n",
    "    for k in range(1,n):\n",
    "        pos[k] += sigma*(2*k-1)\n",
    "    return pos"
   ]
  },
  {
   "cell_type": "code",
   "execution_count": 14,
   "metadata": {},
   "outputs": [
    {
     "data": {
      "image/png": "[encoded data removed]",
      "text/plain": [
       "<matplotlib.figure.Figure at 0x7fd167e36f10>"
      ]
     },
     "metadata": {},
     "output_type": "display_data"
    }
   ],
   "source": [
    "N, n, L, sigma = 10**4, 2, 20, 0.75\n",
    "dat= np.zeros((N, n))\n",
    "for k in range(N):\n",
    "    dat[k] = cleverSampling(n, L, sigma)\n",
    "\n",
    "for l in range(n):\n",
    "    plt.hist(dat[:,l], bins = 50, normed = True, alpha = 0.2, label = 'Particle n = ' + str(l))\n",
    "\n",
    "plt.legend() ; plt.show()"
   ]
  },
  {
   "cell_type": "code",
   "execution_count": 15,
   "metadata": {},
   "outputs": [
    {
     "data": {
      "image/png": "[encoded data removed]",
      "text/plain": [
       "<matplotlib.figure.Figure at 0x7fd16c837d10>"
      ]
     },
     "metadata": {},
     "output_type": "display_data"
    }
   ],
   "source": [
    "N, n, L, sigma = 10**4, 10, 20, 0.75\n",
    "dat= np.zeros((N, n))\n",
    "for k in range(N):\n",
    "    dat[k] = cleverSampling(n, L, sigma)\n",
    "\n",
    "a = [0 for i in range(n)]\n",
    "\n",
    "for l in range(n):\n",
    "    a[l], bins, normed = plt.hist(dat[:,l], 50, normed = True, alpha = 0.2, label = 'Particle n = ' + str(l))\n",
    "\n",
    "plt.legend() ; plt.show()"
   ]
  },
  {
   "cell_type": "markdown",
   "metadata": {},
   "source": [
    "In the two graphs above, we actually obtain the same result than before, but it is hidden. Indeed, just before the mapping step, we sort the list of the positions to get an ordered list. But in the first case, where we accept or reject a distribution of positions, the two particles were indistinguishable, which is not the case here.\n",
    "\n",
    "Let us consider two balls, labeled 1 and 2, at respective positions $x_{1}$ and $x_{2}$, with $x_{1} < x_{2}$ (no overlap). Now, we take a third ball, labeled 3. There are three cases :\n",
    "- If $x_{3} > x_{2} > x_{1}$, then the three balls keep they labelling.\n",
    "- Else if $x_{2} > x_{3} > x_{1}$, then ball 1 stays ball 1 : $1 \\rightarrow 1$, but $2 \\rightarrow 3$, and $3 \\rightarrow 2$, so that we now have $x_{1} < x_{2} < x_{3}$.\n",
    "- Else, $x_{2} > x_{1} > x_{3}$, we also exchange the labels : $1 \\rightarrow 2$, $2 \\rightarrow 3$ and $3 \\rightarrow 1$\n",
    "\n",
    "This means that whatever could be the initial distribution, the sorting imposes some kind of \"confining\" to the marginal distribution of a ball. Indeed, each ball has a defined label depending on its position : ball $i$ will always be between $i-1$ and $i+1$. But because of this sorting procedure, the minimal and maximal positions that ball $i$ can reach are predefined : the minimum position of ball $i$ is when all the balls between $[1, i-1]$ are sticked to the left (with no overlap) so it is $$x_{\\min}^{(i)} = 2\\sigma \\times ... \\times 2\\sigma = (2\\sigma)^{i-1}$$\n",
    "and the maximal position of ball $i$ is\n",
    "$$x_{\\max}^{(i)} = L - 2\\sigma \\times ... \\times 2\\sigma = L - (2\\sigma)^{i-1} $$"
   ]
  },
  {
   "cell_type": "markdown",
   "metadata": {},
   "source": [
    "## 5. Computing the distribution"
   ]
  },
  {
   "cell_type": "markdown",
   "metadata": {},
   "source": [
    "Given the partition function $Z=Z_{n,L}$, the probability of having a given configuration $(x_1,x_2..,x_n)$ is the following\n",
    "\n",
    "$$\\begin{equation*}\n",
    "P(x_1,x_2..,x_n)= \\frac{\\textbf{1}_c (x_1,x_2..,x_n)}{Z}\n",
    "\\end{equation*}$$\n",
    "\n",
    "where $\\textbf{1}_c$ is the indicator function of configurations, equal to $1$ for possible configurations and $0$ otherwise.\n",
    "\\newline\n",
    "\n",
    "We want to compute the probability that there is a particle at $x$. This amounts to computing the number of configurations where there is a particle at $x$. Let's consider the following integral\n",
    "\n",
    "\\begin{equation*}\n",
    " \\int_0^L dx_1dx_2...dx_n \\textbf{1}_c (x_1,x_2..,x_n) \\left( \\delta(x-x_1) + \\delta(x-x_2) ... + \\delta(x-x_n) \\right)\n",
    "\\end{equation*}\n",
    "\n",
    "We claim that the previous integral is proportional to the probability density that there is a particle at $x$. This is true because for a given configuration $(x_1...x_n)$ we have two possibilities:\n",
    "- The configuration is impossible (overlap or particle at edge) in which case the indicator function is equal to $0$ and the configuration is not counted.\n",
    "- The configuration is possible, the indicator function is equal to $1$. We have here two cases: either $x=x_k$ for some index $k$ in which case the configuration is counted, or $x$ is different from all the $x_k$, in which case none of the Dirac masses is \"equal to $1$\" and the configuration is not counted. Note that since the configuration is possible, these are the two only cases (we can't have two or more particles at $x$).\n",
    "\n",
    "Integrating each Dirac mass over the corresponding variable, and using the fact that all the $x_k$ play a symmetric role in the indicator function, we get to the following function\n",
    "\n",
    "\\begin{equation*}\n",
    "f(x)= n \\int_0^L dx_2...dx_n \\textbf{1}_c (x,x_2..,x_n)\n",
    "\\end{equation*}\n",
    "\n",
    "We have then to compute an integral of dimension $n-1$, which can be done easily via MC sampling."
   ]
  },
  {
   "cell_type": "code",
   "execution_count": null,
   "metadata": {},
   "outputs": [],
   "source": []
  }
 ],
 "metadata": {
  "kernelspec": {
   "display_name": "Python 2",
   "language": "python",
   "name": "python2"
  },
  "language_info": {
   "codemirror_mode": {
    "name": "ipython",
    "version": 2
   },
   "file_extension": ".py",
   "mimetype": "text/x-python",
   "name": "python",
   "nbconvert_exporter": "python",
   "pygments_lexer": "ipython2",
   "version": "2.7.13"
  }
 },
 "nbformat": 4,
 "nbformat_minor": 2
}
